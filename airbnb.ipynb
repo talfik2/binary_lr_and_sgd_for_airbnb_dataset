{
 "cells": [
  {
   "cell_type": "markdown",
   "metadata": {},
   "source": [
    "In this repo, I built a `Boosted Binary Logistic Regression` and `Schoastic Gredient Descent` Models that **predicts the house avaliability of AIRBNB Amsterdam listings.** It is a binary classification task we're deailing in here. While doing so, I've used the below columns in my dataset: \n",
    "- Price\n",
    "- Adjusted price\n",
    "- Listing id\n",
    "- Minimum_nights\n",
    "- maximum nights\n",
    "\n",
    "Then, I compared these two models' performance by their accuracy score, time, and memory consumption.\n",
    "\n",
    "The source of this dataset is: http://insideairbnb.com/get-the-data.html\n"
   ]
  },
  {
   "cell_type": "code",
   "execution_count": null,
   "metadata": {},
   "outputs": [],
   "source": [
    "import pandas as pd\n",
    "import numpy as np"
   ]
  },
  {
   "cell_type": "code",
   "execution_count": 2,
   "metadata": {},
   "outputs": [],
   "source": [
    "calendar = pd.read_csv(\"C:\\\\Users\\\\talfi\\\\python\\\\dersler\\\\capstones\\\\11. binary_lr_and_sgd_for_airbnb_dataset\\\\calendar.csv\")"
   ]
  },
  {
   "cell_type": "code",
   "execution_count": 7,
   "metadata": {},
   "outputs": [
    {
     "data": {
      "text/html": [
       "<div>\n",
       "<style scoped>\n",
       "    .dataframe tbody tr th:only-of-type {\n",
       "        vertical-align: middle;\n",
       "    }\n",
       "\n",
       "    .dataframe tbody tr th {\n",
       "        vertical-align: top;\n",
       "    }\n",
       "\n",
       "    .dataframe thead th {\n",
       "        text-align: right;\n",
       "    }\n",
       "</style>\n",
       "<table border=\"1\" class=\"dataframe\">\n",
       "  <thead>\n",
       "    <tr style=\"text-align: right;\">\n",
       "      <th></th>\n",
       "      <th>listing_id</th>\n",
       "      <th>date</th>\n",
       "      <th>available</th>\n",
       "      <th>price</th>\n",
       "      <th>adjusted_price</th>\n",
       "      <th>minimum_nights</th>\n",
       "      <th>maximum_nights</th>\n",
       "    </tr>\n",
       "  </thead>\n",
       "  <tbody>\n",
       "    <tr>\n",
       "      <th>0</th>\n",
       "      <td>2818</td>\n",
       "      <td>2021-02-11</td>\n",
       "      <td>f</td>\n",
       "      <td>$59.00</td>\n",
       "      <td>$59.00</td>\n",
       "      <td>3.0</td>\n",
       "      <td>1125.0</td>\n",
       "    </tr>\n",
       "    <tr>\n",
       "      <th>1</th>\n",
       "      <td>415619</td>\n",
       "      <td>2021-02-10</td>\n",
       "      <td>t</td>\n",
       "      <td>$145.00</td>\n",
       "      <td>$145.00</td>\n",
       "      <td>2.0</td>\n",
       "      <td>30.0</td>\n",
       "    </tr>\n",
       "    <tr>\n",
       "      <th>2</th>\n",
       "      <td>415619</td>\n",
       "      <td>2021-02-11</td>\n",
       "      <td>t</td>\n",
       "      <td>$145.00</td>\n",
       "      <td>$145.00</td>\n",
       "      <td>2.0</td>\n",
       "      <td>30.0</td>\n",
       "    </tr>\n",
       "    <tr>\n",
       "      <th>3</th>\n",
       "      <td>415619</td>\n",
       "      <td>2021-02-12</td>\n",
       "      <td>t</td>\n",
       "      <td>$145.00</td>\n",
       "      <td>$145.00</td>\n",
       "      <td>2.0</td>\n",
       "      <td>30.0</td>\n",
       "    </tr>\n",
       "    <tr>\n",
       "      <th>4</th>\n",
       "      <td>415619</td>\n",
       "      <td>2021-02-13</td>\n",
       "      <td>t</td>\n",
       "      <td>$145.00</td>\n",
       "      <td>$145.00</td>\n",
       "      <td>2.0</td>\n",
       "      <td>30.0</td>\n",
       "    </tr>\n",
       "  </tbody>\n",
       "</table>\n",
       "</div>"
      ],
      "text/plain": [
       "   listing_id        date available    price adjusted_price  minimum_nights  \\\n",
       "0        2818  2021-02-11         f   $59.00         $59.00             3.0   \n",
       "1      415619  2021-02-10         t  $145.00        $145.00             2.0   \n",
       "2      415619  2021-02-11         t  $145.00        $145.00             2.0   \n",
       "3      415619  2021-02-12         t  $145.00        $145.00             2.0   \n",
       "4      415619  2021-02-13         t  $145.00        $145.00             2.0   \n",
       "\n",
       "   maximum_nights  \n",
       "0          1125.0  \n",
       "1            30.0  \n",
       "2            30.0  \n",
       "3            30.0  \n",
       "4            30.0  "
      ]
     },
     "execution_count": 7,
     "metadata": {},
     "output_type": "execute_result"
    }
   ],
   "source": [
    "calendar.head()"
   ]
  },
  {
   "cell_type": "code",
   "execution_count": 8,
   "metadata": {},
   "outputs": [
    {
     "data": {
      "text/plain": [
       "(6676319, 7)"
      ]
     },
     "execution_count": 8,
     "metadata": {},
     "output_type": "execute_result"
    }
   ],
   "source": [
    "calendar.shape"
   ]
  },
  {
   "cell_type": "code",
   "execution_count": 3,
   "metadata": {
    "scrolled": true
   },
   "outputs": [
    {
     "data": {
      "text/plain": [
       "listing_id          int64\n",
       "date               object\n",
       "available          object\n",
       "price              object\n",
       "adjusted_price     object\n",
       "minimum_nights    float64\n",
       "maximum_nights    float64\n",
       "dtype: object"
      ]
     },
     "execution_count": 3,
     "metadata": {},
     "output_type": "execute_result"
    }
   ],
   "source": [
    "calendar.dtypes"
   ]
  },
  {
   "cell_type": "code",
   "execution_count": 4,
   "metadata": {
    "scrolled": true
   },
   "outputs": [
    {
     "data": {
      "text/plain": [
       "listing_id        False\n",
       "date              False\n",
       "available         False\n",
       "price              True\n",
       "adjusted_price     True\n",
       "minimum_nights     True\n",
       "maximum_nights     True\n",
       "dtype: bool"
      ]
     },
     "execution_count": 4,
     "metadata": {},
     "output_type": "execute_result"
    }
   ],
   "source": [
    "calendar.isnull().any()"
   ]
  },
  {
   "cell_type": "markdown",
   "metadata": {},
   "source": [
    "- Let's replace the String values in the Numeric columns"
   ]
  },
  {
   "cell_type": "code",
   "execution_count": 3,
   "metadata": {
    "scrolled": false
   },
   "outputs": [
    {
     "name": "stderr",
     "output_type": "stream",
     "text": [
      "<ipython-input-3-75134685df0f>:1: FutureWarning: The default value of regex will change from True to False in a future version. In addition, single character regular expressions will*not* be treated as literal strings when regex=True.\n",
      "  calendar['price'] = calendar['price'].str.replace('$', '')\n"
     ]
    }
   ],
   "source": [
    "calendar['price'] = calendar['price'].str.replace('$', '')"
   ]
  },
  {
   "cell_type": "code",
   "execution_count": 4,
   "metadata": {
    "scrolled": true
   },
   "outputs": [
    {
     "name": "stderr",
     "output_type": "stream",
     "text": [
      "<ipython-input-4-36e3fe2475cb>:1: FutureWarning: The default value of regex will change from True to False in a future version. In addition, single character regular expressions will*not* be treated as literal strings when regex=True.\n",
      "  calendar['price'] = calendar['price'].str.replace('.', '')\n"
     ]
    }
   ],
   "source": [
    "calendar['price'] = calendar['price'].str.replace('.', '')"
   ]
  },
  {
   "cell_type": "code",
   "execution_count": 5,
   "metadata": {},
   "outputs": [],
   "source": [
    "calendar['price'] = calendar['price'].str.replace(',', '')"
   ]
  },
  {
   "cell_type": "code",
   "execution_count": 6,
   "metadata": {
    "scrolled": true
   },
   "outputs": [
    {
     "name": "stderr",
     "output_type": "stream",
     "text": [
      "<ipython-input-6-fc01715afde7>:1: FutureWarning: The default value of regex will change from True to False in a future version. In addition, single character regular expressions will*not* be treated as literal strings when regex=True.\n",
      "  calendar['adjusted_price'] = calendar['adjusted_price'].str.replace('$', '')\n"
     ]
    }
   ],
   "source": [
    "calendar['adjusted_price'] = calendar['adjusted_price'].str.replace('$', '')"
   ]
  },
  {
   "cell_type": "code",
   "execution_count": 7,
   "metadata": {
    "scrolled": true
   },
   "outputs": [
    {
     "name": "stderr",
     "output_type": "stream",
     "text": [
      "<ipython-input-7-2b0b5b8eddf3>:1: FutureWarning: The default value of regex will change from True to False in a future version. In addition, single character regular expressions will*not* be treated as literal strings when regex=True.\n",
      "  calendar['adjusted_price'] = calendar['adjusted_price'].str.replace('.', '')\n"
     ]
    }
   ],
   "source": [
    "calendar['adjusted_price'] = calendar['adjusted_price'].str.replace('.', '')"
   ]
  },
  {
   "cell_type": "code",
   "execution_count": 8,
   "metadata": {},
   "outputs": [],
   "source": [
    "calendar['adjusted_price'] = calendar['adjusted_price'].str.replace(',', '')"
   ]
  },
  {
   "cell_type": "code",
   "execution_count": 9,
   "metadata": {},
   "outputs": [],
   "source": [
    "calendar[['price','adjusted_price']] = calendar[['price','adjusted_price']].astype(float,errors =\"ignore\")"
   ]
  },
  {
   "cell_type": "code",
   "execution_count": 12,
   "metadata": {
    "scrolled": true
   },
   "outputs": [
    {
     "data": {
      "text/plain": [
       "listing_id          int64\n",
       "date               object\n",
       "available          object\n",
       "price             float64\n",
       "adjusted_price    float64\n",
       "minimum_nights    float64\n",
       "maximum_nights    float64\n",
       "dtype: object"
      ]
     },
     "execution_count": 12,
     "metadata": {},
     "output_type": "execute_result"
    }
   ],
   "source": [
    "calendar.dtypes"
   ]
  },
  {
   "cell_type": "code",
   "execution_count": 10,
   "metadata": {},
   "outputs": [],
   "source": [
    "calendar_core = calendar[[\"price\", \"adjusted_price\", \"minimum_nights\", \"maximum_nights\"]]"
   ]
  },
  {
   "cell_type": "markdown",
   "metadata": {},
   "source": [
    "- As it is a binary classification task, and algorithms won't work with f and t, let's encode\n",
    "    - f = false = Not Available as `0`\n",
    "    - t = True = Available as `1`"
   ]
  },
  {
   "cell_type": "code",
   "execution_count": 11,
   "metadata": {},
   "outputs": [],
   "source": [
    "calendar = calendar.replace({\"available\":{\"f\":0, \"t\":1}})"
   ]
  },
  {
   "cell_type": "code",
   "execution_count": 21,
   "metadata": {},
   "outputs": [
    {
     "data": {
      "text/plain": [
       "0          0\n",
       "1          1\n",
       "2          1\n",
       "3          1\n",
       "4          1\n",
       "          ..\n",
       "6676314    0\n",
       "6676315    0\n",
       "6676316    0\n",
       "6676317    0\n",
       "6676318    0\n",
       "Name: available, Length: 6676319, dtype: int64"
      ]
     },
     "execution_count": 21,
     "metadata": {},
     "output_type": "execute_result"
    }
   ],
   "source": [
    "calendar.available"
   ]
  },
  {
   "cell_type": "code",
   "execution_count": 13,
   "metadata": {
    "scrolled": false
   },
   "outputs": [
    {
     "data": {
      "text/plain": [
       "listing_id        False\n",
       "date              False\n",
       "available         False\n",
       "price              True\n",
       "adjusted_price     True\n",
       "minimum_nights     True\n",
       "maximum_nights     True\n",
       "dtype: bool"
      ]
     },
     "execution_count": 13,
     "metadata": {},
     "output_type": "execute_result"
    }
   ],
   "source": [
    "calendar.isnull().any()"
   ]
  },
  {
   "cell_type": "markdown",
   "metadata": {},
   "source": [
    "- Let's replace the null values with mean of each column"
   ]
  },
  {
   "cell_type": "code",
   "execution_count": 12,
   "metadata": {},
   "outputs": [],
   "source": [
    "from sklearn.impute import SimpleImputer\n",
    "imr = SimpleImputer(missing_values=np.nan, strategy='mean')\n",
    "\n",
    "imr = imr.fit(calendar_core)\n",
    "\n",
    "imputed_data = imr.transform(calendar_core)\n",
    "calendar_core = pd.DataFrame(imputed_data)\n",
    "calendar_core = calendar_core.rename(columns={0:\"price\", 1:\"adjusted_price\", 2:\"minimum_nights\",3:\"maximum_nights\"})"
   ]
  },
  {
   "cell_type": "code",
   "execution_count": 13,
   "metadata": {},
   "outputs": [],
   "source": [
    "calendar_core2 = calendar[[\"listing_id\",\"available\"]]"
   ]
  },
  {
   "cell_type": "code",
   "execution_count": 14,
   "metadata": {
    "scrolled": false
   },
   "outputs": [
    {
     "name": "stdout",
     "output_type": "stream",
     "text": [
      "False\n",
      "     price  adjusted_price  minimum_nights  maximum_nights  listing_id  \\\n",
      "0   5900.0          5900.0             3.0          1125.0        2818   \n",
      "1  14500.0         14500.0             2.0            30.0      415619   \n",
      "2  14500.0         14500.0             2.0            30.0      415619   \n",
      "\n",
      "   available  \n",
      "0          0  \n",
      "1          1  \n",
      "2          1  \n"
     ]
    }
   ],
   "source": [
    "calendar_core = calendar_core.join(calendar_core2)\n",
    "print(calendar_core.isnull().values.any())\n",
    "print(calendar_core.head(3))"
   ]
  },
  {
   "cell_type": "code",
   "execution_count": 48,
   "metadata": {},
   "outputs": [
    {
     "data": {
      "text/plain": [
       "price             float64\n",
       "adjusted_price    float64\n",
       "minimum_nights    float64\n",
       "maximum_nights    float64\n",
       "listing_id          int64\n",
       "available           int64\n",
       "dtype: object"
      ]
     },
     "execution_count": 48,
     "metadata": {},
     "output_type": "execute_result"
    }
   ],
   "source": [
    "calendar_core.dtypes"
   ]
  },
  {
   "cell_type": "markdown",
   "metadata": {},
   "source": [
    "#### SPLITING DATA INTO TRAINING & TEST SETS"
   ]
  },
  {
   "cell_type": "code",
   "execution_count": 15,
   "metadata": {},
   "outputs": [],
   "source": [
    "from sklearn.model_selection import train_test_split"
   ]
  },
  {
   "cell_type": "code",
   "execution_count": 16,
   "metadata": {
    "scrolled": true
   },
   "outputs": [],
   "source": [
    "X_train, X_test, y_train, y_test = train_test_split(calendar_core.drop(columns = \"available\"), \n",
    "                                                    calendar_core[\"available\"],\n",
    "                                                    test_size = 0.3,\n",
    "                                                    random_state = 42) "
   ]
  },
  {
   "cell_type": "markdown",
   "metadata": {},
   "source": [
    "## LOGISTIC REGRESSION"
   ]
  },
  {
   "cell_type": "markdown",
   "metadata": {},
   "source": [
    "#### WHICH VALUE SHOULD WE SET THE C PARAMETER?"
   ]
  },
  {
   "cell_type": "markdown",
   "metadata": {},
   "source": [
    "- Let's boost LR's performance by tuning hyperparameters with GridSearchCV\n",
    "- 17.05.24: I've tried to used GridSearchCV for SGDClassifier but as the data no longer usable, I couldn't do it."
   ]
  },
  {
   "cell_type": "code",
   "execution_count": 21,
   "metadata": {
    "scrolled": true
   },
   "outputs": [
    {
     "name": "stdout",
     "output_type": "stream",
     "text": [
      "Best CV Params {'C': 0.001}\n"
     ]
    }
   ],
   "source": [
    "from sklearn.model_selection import GridSearchCV\n",
    "from sklearn.linear_model import LogisticRegression\n",
    "lr = LogisticRegression(penalty = \"l2\")\n",
    "searcher = GridSearchCV(lr, {\"C\":[0.001, 0.01, 0.1, 1, 10]})\n",
    "searcher.fit(X_train, y_train)\n",
    "print(\"Best CV Params\", searcher.best_params_)"
   ]
  },
  {
   "cell_type": "markdown",
   "metadata": {},
   "source": [
    "- Boosting is now completed for LR. Let's measure the algorithms by their \n",
    "    - Accuracy\n",
    "    - Amount of Memory they've used\n",
    "    - Time they consumed"
   ]
  },
  {
   "cell_type": "markdown",
   "metadata": {},
   "source": [
    "#### Logistic Regression ALGORITM"
   ]
  },
  {
   "cell_type": "code",
   "execution_count": null,
   "metadata": {},
   "outputs": [],
   "source": [
    "\n",
    "memfit = memory_usage((lr.fit, (X_train, y_train)), max_usage=True)\n",
    "memscore = memory_usage((lr.score,(X_train, y_train)), max_usage=True)\n",
    "memtotal = memfit + memscore"
   ]
  },
  {
   "cell_type": "code",
   "execution_count": 20,
   "metadata": {
    "scrolled": true
   },
   "outputs": [
    {
     "name": "stdout",
     "output_type": "stream",
     "text": [
      "Logistic Regression Accuracy Score 0.8220297009929622\n",
      "Logistic Regression Memory Used: 6482.578125\n",
      "Logistic Regression Time: 66.7182605266571 s\n"
     ]
    }
   ],
   "source": [
    "import time\n",
    "from memory_profiler import memory_usage\n",
    "from sklearn.linear_model import LogisticRegression\n",
    "t_start = time.time()\n",
    "lr = LogisticRegression(penalty = \"l2\",C=0.001)\n",
    "# penalty = l2(Lasso Regularization), shrinks the less important feature’s coefficient to zero thus, removing some feature altogether.\n",
    "So, l2 works well for feature selection in case we have a huge number of features. \n",
    "lr.fit(X_train, y_train)\n",
    "memfit = memory_usage((lr.fit, (X_train, y_train)), max_usage=True)\n",
    "print(\"Logistic Regression Accuracy Score\",lr.score(X_test, y_test))\n",
    "memscore = memory_usage((lr.score,(X_train, y_train)), max_usage=True)\n",
    "memtotal = memfit + memscore\n",
    "print(\"Logistic Regression Memory Used:\", memtotal)\n",
    "t_end = time.time()\n",
    "print('Logistic Regression Time: {} s'.format(t_end - t_start))"
   ]
  },
  {
   "cell_type": "markdown",
   "metadata": {},
   "source": [
    "#### Schoastic Gredient Descent\n",
    "* Stochastic gradient descent is an iterative method for optimizing an objective function with suitable smoothness properties. It can be regarded as a stochastic approximation of gradient descent optimization, since it replaces the actual gradient by an estimate thereof. It can be used with Logistic Regression and SVM by setting loss = \"hinge\" and loss = \"log\" \n",
    "* In this repo, I am going to set the loss metric as \"log\" , Logistic Regression. "
   ]
  },
  {
   "cell_type": "code",
   "execution_count": 21,
   "metadata": {},
   "outputs": [
    {
     "name": "stdout",
     "output_type": "stream",
     "text": [
      "SGD Accuracy Score:  0.8204449956463041\n",
      "SGD Memory Used: 6656.73046875\n",
      "SGD time: 568.1156244277954 s\n"
     ]
    }
   ],
   "source": [
    "from sklearn.linear_model import SGDClassifier\n",
    "t_start = time.time()\n",
    "svd_log = SGDClassifier(loss = \"log\")\n",
    "svd_log.fit(X_train, y_train)\n",
    "memfit = memory_usage((svd_log.fit, (X_train, y_train)), max_usage=True)\n",
    "print(\"SGD Accuracy Score: \",svd_log.score(X_test, y_test))\n",
    "memtotal = memfit + memscore\n",
    "print(\"SGD Memory Used:\", memtotal)\n",
    "t_end = time.time()\n",
    "print('SGD time: {} s'.format(t_end - t_start))"
   ]
  },
  {
   "cell_type": "markdown",
   "metadata": {},
   "source": [
    "While the accuracy scores are pretty much the same, Binary Logistic Regression is much more faster than SGD and consumes less space. Boosting help with this<br>\n",
    "Thus, the winner is Boosted Binary Logistic Regression Model."
   ]
  }
 ],
 "metadata": {
  "kernelspec": {
   "display_name": "Python 3",
   "language": "python",
   "name": "python3"
  },
  "language_info": {
   "codemirror_mode": {
    "name": "ipython",
    "version": 3
   },
   "file_extension": ".py",
   "mimetype": "text/x-python",
   "name": "python",
   "nbconvert_exporter": "python",
   "pygments_lexer": "ipython3",
   "version": "3.8.3"
  }
 },
 "nbformat": 4,
 "nbformat_minor": 4
}
